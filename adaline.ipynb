{
  "nbformat": 4,
  "nbformat_minor": 0,
  "metadata": {
    "colab": {
      "provenance": [],
      "authorship_tag": "ABX9TyPEzM6G94Etab1M7QpN0o2d",
      "include_colab_link": true
    },
    "kernelspec": {
      "name": "python3",
      "display_name": "Python 3"
    },
    "language_info": {
      "name": "python"
    }
  },
  "cells": [
    {
      "cell_type": "markdown",
      "metadata": {
        "id": "view-in-github",
        "colab_type": "text"
      },
      "source": [
        "<a href=\"https://colab.research.google.com/github/jennif8r/RedeNeural/blob/main/adaline.ipynb\" target=\"_parent\"><img src=\"https://colab.research.google.com/assets/colab-badge.svg\" alt=\"Open In Colab\"/></a>"
      ]
    },
    {
      "cell_type": "markdown",
      "source": [
        "#Adaline\n",
        "\n",
        "####Manual:\n",
        "- Composta por apenas um neuronio\n",
        "- N entradas, 1 saída\n",
        "- função de ativação: linear (+ step)\n",
        "- Por definição, é um classificador binario linear\n",
        "- Pode ser adaptado para efetuar regressão linear\n",
        "- Aplique somente em problemas linearmente separáveis ou lineares (garantia de sucesso!)\n",
        "- O Adaline sabe o \"quanto\" erroum enquanto o Perceptron sabe apenas se errou ou não.\n",
        "- Pode-se aplicar o Gradiente Descendente (por causa da derivada)"
      ],
      "metadata": {
        "id": "CL46zLbw5iTG"
      }
    },
    {
      "cell_type": "code",
      "execution_count": null,
      "metadata": {
        "id": "NKIBNVd55dTc"
      },
      "outputs": [],
      "source": []
    }
  ]
}